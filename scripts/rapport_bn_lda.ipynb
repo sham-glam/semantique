{
 "cells": [
  {
   "cell_type": "markdown",
   "id": "fef1729c-b07d-4fbe-bc92-e1b816cc5a07",
   "metadata": {},
   "source": [
    "### Analyse automatique du narratif \n",
    "`Shami THIRION SEN`\n",
    "\n",
    "# Semantique textuelle\n",
    "\n",
    "\n",
    "\n",
    "- construction de corpus contrastif\n",
    "  - corpus communiste vs. «non-communiste»\n",
    "\n",
    "- défi temps - disponibilité des données \n",
    "  - si le tp sem 1 visait  le narratifs des temps communiste, (en hind sight) l'obtention du corpus est un défi non négligeable. À l'époque le Bengal est encore loin de la digitalisation des médias.\n",
    "  \n",
    "\n",
    "- "
   ]
  },
  {
   "cell_type": "code",
   "execution_count": 1,
   "id": "8a66a3d6",
   "metadata": {},
   "outputs": [],
   "source": [
    "import numpy as np\n",
    "import json\n",
    "import glob\n",
    "from pprint import pprint\n",
    "from collections import defaultdict\n",
    "import os, math\n",
    "from utils import * # import des fonctions depuis le fichier utils\n",
    "\n",
    "import gensim\n",
    "import gensim.corpora as corpora\n",
    "from gensim.corpora import Dictionary\n",
    "from gensim.utils import simple_preprocess\n",
    "from gensim.models import CoherenceModel\n",
    "\n",
    "#visualisation\n",
    "import pyLDAvis\n",
    "import pyLDAvis.gensim\n",
    "\n",
    "# outils TAL en bengali\n",
    "import BnLemma as lm\n",
    "from bnlp import BengaliPOS\n",
    "\n",
    "import warnings\n",
    "warnings.filterwarnings(\"ignore\", category=DeprecationWarning)"
   ]
  },
  {
   "cell_type": "code",
   "execution_count": null,
   "id": "835a520f",
   "metadata": {},
   "outputs": [],
   "source": []
  },
  {
   "cell_type": "code",
   "execution_count": 2,
   "id": "7d23dd14-3a5b-4f6b-b1cd-bae956cd2b30",
   "metadata": {},
   "outputs": [],
   "source": [
    "# Bangla POS tagging\n",
    "bn_pos = BengaliPOS()\n",
    "from bnlp import BengaliCorpus as corpus\n",
    "stopwords = corpus.stopwords[:20] + ['রি' + 'টি']"
   ]
  },
  {
   "cell_type": "code",
   "execution_count": 3,
   "id": "403391ef-aaf3-495c-be81-aaffc9987b0b",
   "metadata": {},
   "outputs": [],
   "source": [
    "def gen_words(texts):\n",
    "    single_string = [ ' '.join(line) for line in texts]\n",
    "    data_words = [gensim.utils.simple_preprocess(text) for text in single_string]\n",
    "    return data_words\n"
   ]
  },
  {
   "cell_type": "code",
   "execution_count": 4,
   "id": "8a56ca6a-eacb-4b29-8d95-98b74b51b068",
   "metadata": {},
   "outputs": [],
   "source": [
    "## BIGRAMMES ET TIGRAMMES\n",
    "def make_bigrams(texts):\n",
    "    # print(bigram[doc] for doc in texts)\n",
    "    return ([bigram[doc] for doc in texts])\n",
    "\n",
    "def make_trigrams(texts):\n",
    "    return([trigram[bigram[doc]] for doc in texts])\n"
   ]
  },
  {
   "cell_type": "code",
   "execution_count": 5,
   "id": "370959ae",
   "metadata": {},
   "outputs": [],
   "source": [
    "# on choisit le nombre de tokens (pour les 3 corpus)\n",
    "num_tokens = 10000"
   ]
  },
  {
   "cell_type": "markdown",
   "id": "e6823fce-7d0c-4d2a-ab8f-3de11892cbd0",
   "metadata": {},
   "source": [
    "#### BanglaGanashakti \n",
    "- Lecture du corpus extrait et nettoyage"
   ]
  },
  {
   "cell_type": "code",
   "execution_count": null,
   "id": "87b32bd6",
   "metadata": {},
   "outputs": [],
   "source": [
    "banglaGanashakti = \"../corpus/txtFiles/banglaGanashakti.txt\"\n",
    "filtered_ganashakti = read_corpus(banglaGanashakti, num_tokens)\n",
    "filtered_ganashakti = [list for list in filtered_ganashakti if len(list)>0] # old list_of_docs\n"
   ]
  },
  {
   "cell_type": "code",
   "execution_count": null,
   "id": "27308d44-db6b-4a81-b048-56c24fb7dbbe",
   "metadata": {},
   "outputs": [],
   "source": [
    "# generation   \n",
    "data_words  = gen_words(filtered_ganashakti)\n",
    "print(data_words[9][:200])\n",
    "\n",
    "# copy_this\n",
    "bigram_phrases = gensim.models.Phrases(filtered_ganashakti, min_count=5, threshold=50)\n",
    "trigram_phrases = gensim.models.Phrases(bigram_phrases[filtered_ganashakti], threshold=50)\n",
    "\n",
    "bigram = gensim.models.phrases.Phraser(bigram_phrases)\n",
    "trigram = gensim.models.phrases.Phraser(trigram_phrases)\n",
    "\n",
    "data_bigrams = make_bigrams(filtered_ganashakti)\n",
    "data_bigrams_trigrams = make_trigrams(data_bigrams)\n",
    "\n",
    "# data_bigrams_trigrams = make_bigrams_trigrams(filtered_ganashakti)"
   ]
  },
  {
   "cell_type": "code",
   "execution_count": null,
   "id": "adf34e9b-2ea5-40cd-8fba-d9c0097d3871",
   "metadata": {},
   "outputs": [],
   "source": [
    "print(data_bigrams_trigrams[:10])"
   ]
  },
  {
   "cell_type": "code",
   "execution_count": null,
   "id": "1a43a3ff-609b-4f48-a706-f0b7cc1f78e5",
   "metadata": {},
   "outputs": [],
   "source": [
    "### TF-IDF\n",
    "\n",
    "id2word = Dictionary(data_bigrams_trigrams)\n",
    "corpus = [id2word.doc2bow(text) for text in filtered_ganashakti]\n",
    "\n",
    "word = id2word[[9][:1][0]]\n",
    "print (word)"
   ]
  },
  {
   "cell_type": "code",
   "execution_count": null,
   "id": "bdff6628-c7b7-46ee-8fcf-621b0ff595ce",
   "metadata": {},
   "outputs": [],
   "source": [
    "corpus=get_corpus(corpus,id2word)\n",
    "# corpus[:10]\n",
    "# print(corpus)"
   ]
  },
  {
   "cell_type": "code",
   "execution_count": null,
   "id": "8ad2321e-9783-4fcd-89ab-834e1b0b4702",
   "metadata": {},
   "outputs": [],
   "source": [
    "lda_model = gensim.models.ldamodel.LdaModel(corpus=corpus,\n",
    "                                           id2word=id2word,\n",
    "                                           num_topics=20,\n",
    "                                           random_state=100,\n",
    "                                           update_every=1,\n",
    "                                           chunksize=200,\n",
    "                                           passes=10,\n",
    "                                           alpha=\"auto\")"
   ]
  },
  {
   "cell_type": "code",
   "execution_count": null,
   "id": "14af31cc",
   "metadata": {
    "scrolled": true
   },
   "outputs": [],
   "source": [
    "pyLDAvis.enable_notebook()\n",
    "vis = pyLDAvis.gensim.prepare(lda_model, corpus, id2word, mds=\"mmds\", R=30)\n",
    "vis"
   ]
  },
  {
   "cell_type": "code",
   "execution_count": null,
   "id": "1e837e72-3f95-4223-8470-4659034275bd",
   "metadata": {},
   "outputs": [],
   "source": [
    "pyLDAvis.save_html(vis, 'ganashaki.html')"
   ]
  },
  {
   "cell_type": "code",
   "execution_count": null,
   "id": "b8931b8e-4b50-45b4-be10-92ecbff42189",
   "metadata": {},
   "outputs": [],
   "source": []
  },
  {
   "cell_type": "markdown",
   "id": "33a0a2a3-ec2b-4b20-852f-5b453b6eb550",
   "metadata": {},
   "source": [
    "#### Calcul spécificité"
   ]
  },
  {
   "cell_type": "code",
   "execution_count": null,
   "id": "09063107-7448-4f1f-a3a4-ac5697933641",
   "metadata": {},
   "outputs": [],
   "source": [
    "max_specificity, min_specificity = get_higest_lowest_specificity(filtered_ganashakti, 10)"
   ]
  },
  {
   "cell_type": "code",
   "execution_count": null,
   "id": "50fb484c-dd90-470b-bf2e-82bd0d6590b9",
   "metadata": {},
   "outputs": [],
   "source": [
    "max_specificity, '\\n\\n', min_specificity"
   ]
  },
  {
   "cell_type": "markdown",
   "id": "d52945c1-add1-4ada-b8c9-4dc3f092e430",
   "metadata": {},
   "source": [
    "#### Count bigrams"
   ]
  },
  {
   "cell_type": "code",
   "execution_count": null,
   "id": "cf61844b-082e-46e3-86a2-1b5c1aba7c13",
   "metadata": {},
   "outputs": [],
   "source": [
    "# count_bigrams(filtered_ganashakti)"
   ]
  },
  {
   "cell_type": "code",
   "execution_count": null,
   "id": "c5e925b8-aa47-4047-97e7-f16c7d734c0c",
   "metadata": {},
   "outputs": [],
   "source": [
    "# count_trigrams(filtered_ganashakti)"
   ]
  },
  {
   "cell_type": "markdown",
   "id": "f2edc499-a28f-43f3-8bb4-67be608bfaa9",
   "metadata": {},
   "source": [
    "### Bartamanpatrika"
   ]
  },
  {
   "cell_type": "code",
   "execution_count": null,
   "id": "9db2e3f9",
   "metadata": {},
   "outputs": [],
   "source": [
    "bartamanpatrika = \"../corpus/txtFiles/bartamanpatrika.txt\"\n",
    "filtered_bartamanpatrika = read_corpus(bartamanpatrika, num_tokens)\n",
    "filtered_bartamanpatrika = [list for list in filtered_bartamanpatrika if len(list)>0]"
   ]
  },
  {
   "cell_type": "code",
   "execution_count": null,
   "id": "9a3faf20",
   "metadata": {},
   "outputs": [],
   "source": [
    "# generation   \n",
    "data_words  = gen_words(filtered_bartamanpatrika)\n",
    "# print(data_words[9][:200])\n",
    "\n",
    "# copy_this\n",
    "bigram_phrases = gensim.models.Phrases(filtered_bartamanpatrika, min_count=5, threshold=50)\n",
    "trigram_phrases = gensim.models.Phrases(bigram_phrases[filtered_bartamanpatrika], threshold=50)\n",
    "\n",
    "bigram = gensim.models.phrases.Phraser(bigram_phrases)\n",
    "trigram = gensim.models.phrases.Phraser(trigram_phrases)\n",
    "\n",
    "data_bigrams = make_bigrams(filtered_bartamanpatrika)\n",
    "data_bigrams_trigrams = make_trigrams(data_bigrams)\n"
   ]
  },
  {
   "cell_type": "code",
   "execution_count": null,
   "id": "274beb60",
   "metadata": {},
   "outputs": [],
   "source": [
    "print(data_bigrams_trigrams[:10])"
   ]
  },
  {
   "cell_type": "code",
   "execution_count": null,
   "id": "b6f8b9ad",
   "metadata": {},
   "outputs": [],
   "source": [
    "### TF-IDF\n",
    "\n",
    "id2word = Dictionary(data_bigrams_trigrams)\n",
    "corpus = [id2word.doc2bow(text) for text in filtered_bartamanpatrika]\n",
    "\n",
    "word = id2word[[9][:1][0]]\n",
    "print (word)"
   ]
  },
  {
   "cell_type": "code",
   "execution_count": null,
   "id": "0a3fec69",
   "metadata": {},
   "outputs": [],
   "source": [
    "corpus=get_corpus(corpus,id2word)\n"
   ]
  },
  {
   "cell_type": "code",
   "execution_count": null,
   "id": "908a7f16",
   "metadata": {},
   "outputs": [],
   "source": [
    "lda_model = gensim.models.ldamodel.LdaModel(corpus=corpus,\n",
    "                                           id2word=id2word,\n",
    "                                           num_topics=30,\n",
    "                                           random_state=100,\n",
    "                                           update_every=1,\n",
    "                                           chunksize=100,\n",
    "                                           passes=10,\n",
    "                                           alpha=\"auto\")\n",
    "\n"
   ]
  },
  {
   "cell_type": "code",
   "execution_count": null,
   "id": "4f750cab",
   "metadata": {},
   "outputs": [],
   "source": [
    "pyLDAvis.enable_notebook()\n",
    "vis = pyLDAvis.gensim.prepare(lda_model, corpus, id2word, mds=\"mmds\", R=30)\n",
    "vis"
   ]
  },
  {
   "cell_type": "code",
   "execution_count": null,
   "id": "e3fb681e-05af-4da9-b2c6-b60c4310bab9",
   "metadata": {},
   "outputs": [],
   "source": [
    "pyLDAvis.save_html(vis, 'bartamanpatrika.html')"
   ]
  },
  {
   "cell_type": "markdown",
   "id": "b314cebb",
   "metadata": {},
   "source": [
    "#### Calcul de spécificité"
   ]
  },
  {
   "cell_type": "code",
   "execution_count": null,
   "id": "3efd2473",
   "metadata": {
    "scrolled": true
   },
   "outputs": [],
   "source": [
    "max_specificity, min_specificity = get_higest_lowest_specificity(filtered_bartamanpatrika, 10)\n",
    "# max_specificity, min_specificity"
   ]
  },
  {
   "cell_type": "markdown",
   "id": "6ced761a-347a-4dfa-9034-f546bba4a21b",
   "metadata": {},
   "source": [
    "#### Bigrammes"
   ]
  },
  {
   "cell_type": "code",
   "execution_count": null,
   "id": "0ff990e5-008e-4f19-98e7-474985c8dad3",
   "metadata": {},
   "outputs": [],
   "source": [
    "# count_bigrams(filtered_bartamanpatrika)"
   ]
  },
  {
   "cell_type": "code",
   "execution_count": null,
   "id": "4303fd1e-4621-4f67-9fd6-15d1243f4fbb",
   "metadata": {},
   "outputs": [],
   "source": [
    "# count_trigrams(filtered_bartamanpatrika)"
   ]
  },
  {
   "cell_type": "markdown",
   "id": "0ded5464-089f-4309-86d6-6602e3609864",
   "metadata": {},
   "source": [
    "### Anandabazar\n",
    "\n",
    "- corpus qui avec 1000 tokens pointe vers cricket et le sujet de sport \n",
    "- Alors qu'avec 10000 nous obtenons plus de généralité"
   ]
  },
  {
   "cell_type": "code",
   "execution_count": null,
   "id": "e337e0c9-6cbf-442d-9fc5-d2ce1a8978b6",
   "metadata": {},
   "outputs": [],
   "source": [
    "anandabazar = \"../corpus/txtFiles/anandabazar.txt\"\n",
    "filtered_anandabazar = read_corpus(anandabazar, num_tokens)\n",
    "filtered_anandabazar = [list for list in filtered_anandabazar if len(list)>0] "
   ]
  },
  {
   "cell_type": "code",
   "execution_count": null,
   "id": "871b3b2b",
   "metadata": {},
   "outputs": [],
   "source": [
    "# generation   \n",
    "data_words  = gen_words(filtered_anandabazar)\n",
    "# print(data_words[9][:200])\n",
    "\n",
    "# copy_this\n",
    "bigram_phrases = gensim.models.Phrases(filtered_anandabazar, min_count=5, threshold=50)\n",
    "trigram_phrases = gensim.models.Phrases(bigram_phrases[filtered_anandabazar], threshold=50)\n",
    "\n",
    "bigram = gensim.models.phrases.Phraser(bigram_phrases)\n",
    "trigram = gensim.models.phrases.Phraser(trigram_phrases)\n",
    "\n",
    "data_bigrams = make_bigrams(filtered_anandabazar)\n",
    "data_bigrams_trigrams = make_trigrams(data_bigrams)\n"
   ]
  },
  {
   "cell_type": "code",
   "execution_count": null,
   "id": "a3ebd344",
   "metadata": {},
   "outputs": [],
   "source": [
    "print(data_bigrams_trigrams[:10])"
   ]
  },
  {
   "cell_type": "code",
   "execution_count": null,
   "id": "45e77df0",
   "metadata": {},
   "outputs": [],
   "source": [
    "### TF-IDF\n",
    "\n",
    "id2word = Dictionary(data_bigrams_trigrams)\n",
    "corpus = [id2word.doc2bow(text) for text in filtered_anandabazar]\n",
    "\n",
    "word = id2word[[9][:1][0]]\n",
    "print (word)\n",
    "\n",
    "corpus=get_corpus(corpus,id2word)\n",
    "# corpus[:10]"
   ]
  },
  {
   "cell_type": "code",
   "execution_count": null,
   "id": "27d4d416",
   "metadata": {},
   "outputs": [],
   "source": [
    "lda_model = gensim.models.ldamodel.LdaModel(corpus=corpus,\n",
    "                                           id2word=id2word,\n",
    "                                           num_topics=20,\n",
    "                                           random_state=100,\n",
    "                                           update_every=1,\n",
    "                                           chunksize=200,\n",
    "                                           passes=10,\n",
    "                                           alpha=\"auto\")\n",
    "\n"
   ]
  },
  {
   "cell_type": "code",
   "execution_count": null,
   "id": "3fb3cae0",
   "metadata": {},
   "outputs": [],
   "source": [
    "pyLDAvis.enable_notebook()\n",
    "vis = pyLDAvis.gensim.prepare(lda_model, corpus, id2word, mds=\"mmds\", R=30)\n",
    "vis"
   ]
  },
  {
   "cell_type": "code",
   "execution_count": null,
   "id": "b426833c-c773-4425-8027-e1b90055bc20",
   "metadata": {},
   "outputs": [],
   "source": [
    "pyLDAvis.save_html(vis, 'anandabazar.html')"
   ]
  },
  {
   "cell_type": "markdown",
   "id": "0bcf9e8e",
   "metadata": {},
   "source": [
    "#### Calcul de spécificité"
   ]
  },
  {
   "cell_type": "code",
   "execution_count": null,
   "id": "8dcc1a4d",
   "metadata": {},
   "outputs": [],
   "source": [
    "max_specificity, min_specificity = get_higest_lowest_specificity(filtered_anandabazar, 10)"
   ]
  },
  {
   "cell_type": "code",
   "execution_count": null,
   "id": "8d0ff840",
   "metadata": {},
   "outputs": [],
   "source": [
    "# max_specificity, min_specificity"
   ]
  },
  {
   "cell_type": "markdown",
   "id": "03415213-1144-4721-bda2-6d46bfb73d00",
   "metadata": {},
   "source": [
    "#### Bigrammes"
   ]
  },
  {
   "cell_type": "code",
   "execution_count": null,
   "id": "6d5e3f1b",
   "metadata": {},
   "outputs": [],
   "source": [
    "# count_bigrams(filtered_anandabazar)"
   ]
  },
  {
   "cell_type": "code",
   "execution_count": null,
   "id": "73a2e9b1-0b97-48e3-906d-7a77333c4c4a",
   "metadata": {},
   "outputs": [],
   "source": [
    "# count_trigrams(filtered_anandabazar)"
   ]
  }
 ],
 "metadata": {
  "kernelspec": {
   "display_name": "Python 3 (ipykernel)",
   "language": "python",
   "name": "python3"
  },
  "language_info": {
   "codemirror_mode": {
    "name": "ipython",
    "version": 3
   },
   "file_extension": ".py",
   "mimetype": "text/x-python",
   "name": "python",
   "nbconvert_exporter": "python",
   "pygments_lexer": "ipython3",
   "version": "3.10.14"
  }
 },
 "nbformat": 4,
 "nbformat_minor": 5
}
